{
 "cells": [
  {
   "cell_type": "code",
   "execution_count": 17,
   "metadata": {},
   "outputs": [],
   "source": [
    "import numpy as np\n",
    "import pandas as pd\n",
    "import requests\n",
    "import camelot"
   ]
  },
  {
   "cell_type": "code",
   "execution_count": null,
   "metadata": {},
   "outputs": [],
   "source": [
    "#pip uninstall camelot -y\n",
    "#pip uninstall camelot-py -y\n",
    "#pip install camelot-py[all]"
   ]
  },
  {
   "cell_type": "code",
   "execution_count": null,
   "metadata": {},
   "outputs": [],
   "source": [
    "r = requests.get(\"https://www.ard-zdf-massenkommunikation.de/files/Download-Archiv/MK_2020/MK_Langzeitstudie_2020_-_Mediennutzung_im_OstWest-Vergleich.pdf\")"
   ]
  },
  {
   "cell_type": "code",
   "execution_count": null,
   "metadata": {},
   "outputs": [],
   "source": [
    "open('data.pdf', 'wb').write(r.content)\n",
    "import textract\n",
    "text = textract.process('data.pdf').decode(\"utf-8\")"
   ]
  },
  {
   "cell_type": "code",
   "execution_count": 2,
   "metadata": {},
   "outputs": [
    {
     "name": "stderr",
     "output_type": "stream",
     "text": [
      "UserWarning: No tables found in table area 2 [stream.py:365]\n"
     ]
    }
   ],
   "source": [
    "tables = camelot.read_pdf('data.pdf', flavor='stream', split_text=True, pages='all')"
   ]
  },
  {
   "cell_type": "code",
   "execution_count": 3,
   "metadata": {},
   "outputs": [],
   "source": [
    "def get_tab_l(inp):\n",
    "    an=[]\n",
    "    en=[]\n",
    "    for i in inp.df.iloc:\n",
    "        if any(i.str.contains(\"Tabelle\"))==True:\n",
    "            an.append(i.name)\n",
    "        if any(i.str.contains(\"Quelle\"))==True:\n",
    "            en.append(int(i.name)+1)\n",
    "        else:\n",
    "            pass\n",
    "    return list(zip(np.asarray(an),np.asarray(en)))\n",
    "            \n",
    "            \n",
    "ll = []           \n",
    "for i in tables:\n",
    "    ll.append(get_tab_l(i))"
   ]
  },
  {
   "cell_type": "code",
   "execution_count": 4,
   "metadata": {},
   "outputs": [],
   "source": [
    "tab_list = []\n",
    "for i in range(len(ll)):\n",
    "    for j in ll[i]:\n",
    "        try:\n",
    "            zw = tables[i].df[j[0]:j[1]]\n",
    "            if len(zw)>0:\n",
    "                tab_list.append(zw.reset_index(drop=True))\n",
    "            else:\n",
    "                pass\n",
    "        except:\n",
    "            pass\n",
    "del tab_list[5]"
   ]
  },
  {
   "cell_type": "code",
   "execution_count": 301,
   "metadata": {},
   "outputs": [],
   "source": [
    "def get_tab_abl(inp):\n",
    "    an=[]\n",
    "    en=[]\n",
    "    for i in inp.iloc:\n",
    "        if any(i.str.contains(\"ABL\"))==True:\n",
    "            if any(i.str.contains(\"ABL=\"))==True:\n",
    "                en.append(i.name)\n",
    "            else:\n",
    "                an.append(i.name)\n",
    "        else:\n",
    "            pass\n",
    "    return list(zip(np.asarray(an),np.asarray(en)))\n",
    "\n",
    "tabel_dic={}\n",
    "ldl=[]\n",
    "for i in tab_list:\n",
    "    nn=\" \".join([\"\".join(s) for s in i.loc[:2].values])\n",
    "    anen=get_tab_abl(i)\n",
    "    tt=i.loc[anen[0][0]+1:anen[0][1]-1]\n",
    "    tto=tt.set_index(0)\n",
    "    tto=tto.replace(\"\",np.nan).dropna()\n",
    "    tto.index.name=nn\n",
    "    try:\n",
    "        tto.columns=[\"Alte Bundesländer\",\"Neue Bundesländer\",\"Differenz\"]\n",
    "        tto[\"Alte Bundesländer\"] = pd.to_numeric(tto[\"Alte Bundesländer\"])\n",
    "        tto[\"Neue Bundesländer\"] = pd.to_numeric(tto[\"Neue Bundesländer\"])\n",
    "        tto[\"Differenz\"] = tto[\"Neue Bundesländer\"]-tto[\"Alte Bundesländer\"]\n",
    "        test=tto\n",
    "        tabel_dic.update({nn : tto})\n",
    "        ldl.append(nn)\n",
    "    except:\n",
    "        pass"
   ]
  },
  {
   "cell_type": "code",
   "execution_count": 309,
   "metadata": {},
   "outputs": [
    {
     "data": {
      "application/vnd.jupyter.widget-view+json": {
       "model_id": "0b01c9649e9040308d2f52a893f1574f",
       "version_major": 2,
       "version_minor": 0
      },
      "text/plain": [
       "interactive(children=(Dropdown(description='Tabelle', options=('Tabelle 1 Demografie und Berufstätigkeit in Os…"
      ]
     },
     "metadata": {},
     "output_type": "display_data"
    }
   ],
   "source": [
    "from ipywidgets import interact, interactive, fixed, interact_manual\n",
    "import ipywidgets as widgets\n",
    "import plotly.graph_objects as go\n",
    "\n",
    "def f(Tabelle):\n",
    "    import plotly.graph_objects as go\n",
    "    df = tabel_dic[Tabelle]\n",
    "    fig = go.Figure(data=[\n",
    "    go.Bar(name=\"Alte Bundesländer\", x=df.index, y=df[\"Alte Bundesländer\"],marker_color='#FA7D19'),\n",
    "    go.Bar(name=\"Neue Bundesländer\", x=df.index, y=df[\"Neue Bundesländer\"],marker_color='#999999'),\n",
    "    go.Bar(name=\"Differenz\", x=df.index, y=df[\"Differenz\"],text=df[\"Differenz\"],marker_color='#666666')\n",
    "    ])\n",
    "    fig.update_traces(textposition='outside')\n",
    "    fig.update_layout(barmode='group', title=df.index.name,title_font_family='Swiss 721 BT')\n",
    "    date_=Tabelle[:10]\n",
    "    fig.show()\n",
    "    return Tabelle\n",
    "interact(f, Tabelle=ldl);"
   ]
  },
  {
   "cell_type": "code",
   "execution_count": 286,
   "metadata": {},
   "outputs": [],
   "source": [
    "buttons_list=[]\n",
    "for i in ldl:\n",
    "    zw=dict(args=['shapes', tabel_dic[i]],label=i[:10],method=\"update\")\n",
    "    buttons_list.append(zw)"
   ]
  },
  {
   "cell_type": "code",
   "execution_count": 288,
   "metadata": {},
   "outputs": [
    {
     "data": {
      "application/vnd.plotly.v1+json": {
       "config": {
        "plotlyServerURL": "https://plot.ly"
       },
       "data": [
        {
         "marker": {
          "color": "#FA7D19"
         },
         "name": "Alte Bundesländer",
         "textposition": "outside",
         "type": "bar",
         "x": [
          "14-19 J.",
          "20-29 J.",
          "30-39 J.",
          "40-49 J.",
          "50-59 J.",
          "60-69 J.",
          "ab 70 J.",
          "voll berufstätig",
          "teil-berufstätig (halbtags/stundenweise)",
          "in Berufsausbildung, Azubi",
          "Hausfrau ohne Berufstätigkeit",
          "Schüler(in)",
          "Student(in)",
          "Rentner(in)",
          "nicht berufstätig, arbeitslos"
         ],
         "y": [
          7,
          14,
          15,
          15,
          19,
          13,
          17,
          47,
          14,
          2,
          1,
          5,
          3,
          24,
          4
         ]
        },
        {
         "marker": {
          "color": "#999999"
         },
         "name": "Neue Bundesländer",
         "textposition": "outside",
         "type": "bar",
         "x": [
          "14-19 J.",
          "20-29 J.",
          "30-39 J.",
          "40-49 J.",
          "50-59 J.",
          "60-69 J.",
          "ab 70 J.",
          "voll berufstätig",
          "teil-berufstätig (halbtags/stundenweise)",
          "in Berufsausbildung, Azubi",
          "Hausfrau ohne Berufstätigkeit",
          "Schüler(in)",
          "Student(in)",
          "Rentner(in)",
          "nicht berufstätig, arbeitslos"
         ],
         "y": [
          5,
          12,
          14,
          14,
          19,
          18,
          18,
          47,
          10,
          4,
          0,
          3,
          2,
          31,
          5
         ]
        },
        {
         "marker": {
          "color": "#666666"
         },
         "name": "Differenz",
         "text": [
          -2,
          -2,
          -1,
          -1,
          0,
          5,
          1,
          0,
          -4,
          2,
          -1,
          -2,
          -1,
          7,
          1
         ],
         "textposition": "outside",
         "type": "bar",
         "x": [
          "14-19 J.",
          "20-29 J.",
          "30-39 J.",
          "40-49 J.",
          "50-59 J.",
          "60-69 J.",
          "ab 70 J.",
          "voll berufstätig",
          "teil-berufstätig (halbtags/stundenweise)",
          "in Berufsausbildung, Azubi",
          "Hausfrau ohne Berufstätigkeit",
          "Schüler(in)",
          "Student(in)",
          "Rentner(in)",
          "nicht berufstätig, arbeitslos"
         ],
         "y": [
          -2,
          -2,
          -1,
          -1,
          0,
          5,
          1,
          0,
          -4,
          2,
          -1,
          -2,
          -1,
          7,
          1
         ]
        }
       ],
       "layout": {
        "barmode": "group",
        "template": {
         "data": {
          "bar": [
           {
            "error_x": {
             "color": "#2a3f5f"
            },
            "error_y": {
             "color": "#2a3f5f"
            },
            "marker": {
             "line": {
              "color": "#E5ECF6",
              "width": 0.5
             }
            },
            "type": "bar"
           }
          ],
          "barpolar": [
           {
            "marker": {
             "line": {
              "color": "#E5ECF6",
              "width": 0.5
             }
            },
            "type": "barpolar"
           }
          ],
          "carpet": [
           {
            "aaxis": {
             "endlinecolor": "#2a3f5f",
             "gridcolor": "white",
             "linecolor": "white",
             "minorgridcolor": "white",
             "startlinecolor": "#2a3f5f"
            },
            "baxis": {
             "endlinecolor": "#2a3f5f",
             "gridcolor": "white",
             "linecolor": "white",
             "minorgridcolor": "white",
             "startlinecolor": "#2a3f5f"
            },
            "type": "carpet"
           }
          ],
          "choropleth": [
           {
            "colorbar": {
             "outlinewidth": 0,
             "ticks": ""
            },
            "type": "choropleth"
           }
          ],
          "contour": [
           {
            "colorbar": {
             "outlinewidth": 0,
             "ticks": ""
            },
            "colorscale": [
             [
              0,
              "#0d0887"
             ],
             [
              0.1111111111111111,
              "#46039f"
             ],
             [
              0.2222222222222222,
              "#7201a8"
             ],
             [
              0.3333333333333333,
              "#9c179e"
             ],
             [
              0.4444444444444444,
              "#bd3786"
             ],
             [
              0.5555555555555556,
              "#d8576b"
             ],
             [
              0.6666666666666666,
              "#ed7953"
             ],
             [
              0.7777777777777778,
              "#fb9f3a"
             ],
             [
              0.8888888888888888,
              "#fdca26"
             ],
             [
              1,
              "#f0f921"
             ]
            ],
            "type": "contour"
           }
          ],
          "contourcarpet": [
           {
            "colorbar": {
             "outlinewidth": 0,
             "ticks": ""
            },
            "type": "contourcarpet"
           }
          ],
          "heatmap": [
           {
            "colorbar": {
             "outlinewidth": 0,
             "ticks": ""
            },
            "colorscale": [
             [
              0,
              "#0d0887"
             ],
             [
              0.1111111111111111,
              "#46039f"
             ],
             [
              0.2222222222222222,
              "#7201a8"
             ],
             [
              0.3333333333333333,
              "#9c179e"
             ],
             [
              0.4444444444444444,
              "#bd3786"
             ],
             [
              0.5555555555555556,
              "#d8576b"
             ],
             [
              0.6666666666666666,
              "#ed7953"
             ],
             [
              0.7777777777777778,
              "#fb9f3a"
             ],
             [
              0.8888888888888888,
              "#fdca26"
             ],
             [
              1,
              "#f0f921"
             ]
            ],
            "type": "heatmap"
           }
          ],
          "heatmapgl": [
           {
            "colorbar": {
             "outlinewidth": 0,
             "ticks": ""
            },
            "colorscale": [
             [
              0,
              "#0d0887"
             ],
             [
              0.1111111111111111,
              "#46039f"
             ],
             [
              0.2222222222222222,
              "#7201a8"
             ],
             [
              0.3333333333333333,
              "#9c179e"
             ],
             [
              0.4444444444444444,
              "#bd3786"
             ],
             [
              0.5555555555555556,
              "#d8576b"
             ],
             [
              0.6666666666666666,
              "#ed7953"
             ],
             [
              0.7777777777777778,
              "#fb9f3a"
             ],
             [
              0.8888888888888888,
              "#fdca26"
             ],
             [
              1,
              "#f0f921"
             ]
            ],
            "type": "heatmapgl"
           }
          ],
          "histogram": [
           {
            "marker": {
             "colorbar": {
              "outlinewidth": 0,
              "ticks": ""
             }
            },
            "type": "histogram"
           }
          ],
          "histogram2d": [
           {
            "colorbar": {
             "outlinewidth": 0,
             "ticks": ""
            },
            "colorscale": [
             [
              0,
              "#0d0887"
             ],
             [
              0.1111111111111111,
              "#46039f"
             ],
             [
              0.2222222222222222,
              "#7201a8"
             ],
             [
              0.3333333333333333,
              "#9c179e"
             ],
             [
              0.4444444444444444,
              "#bd3786"
             ],
             [
              0.5555555555555556,
              "#d8576b"
             ],
             [
              0.6666666666666666,
              "#ed7953"
             ],
             [
              0.7777777777777778,
              "#fb9f3a"
             ],
             [
              0.8888888888888888,
              "#fdca26"
             ],
             [
              1,
              "#f0f921"
             ]
            ],
            "type": "histogram2d"
           }
          ],
          "histogram2dcontour": [
           {
            "colorbar": {
             "outlinewidth": 0,
             "ticks": ""
            },
            "colorscale": [
             [
              0,
              "#0d0887"
             ],
             [
              0.1111111111111111,
              "#46039f"
             ],
             [
              0.2222222222222222,
              "#7201a8"
             ],
             [
              0.3333333333333333,
              "#9c179e"
             ],
             [
              0.4444444444444444,
              "#bd3786"
             ],
             [
              0.5555555555555556,
              "#d8576b"
             ],
             [
              0.6666666666666666,
              "#ed7953"
             ],
             [
              0.7777777777777778,
              "#fb9f3a"
             ],
             [
              0.8888888888888888,
              "#fdca26"
             ],
             [
              1,
              "#f0f921"
             ]
            ],
            "type": "histogram2dcontour"
           }
          ],
          "mesh3d": [
           {
            "colorbar": {
             "outlinewidth": 0,
             "ticks": ""
            },
            "type": "mesh3d"
           }
          ],
          "parcoords": [
           {
            "line": {
             "colorbar": {
              "outlinewidth": 0,
              "ticks": ""
             }
            },
            "type": "parcoords"
           }
          ],
          "pie": [
           {
            "automargin": true,
            "type": "pie"
           }
          ],
          "scatter": [
           {
            "marker": {
             "colorbar": {
              "outlinewidth": 0,
              "ticks": ""
             }
            },
            "type": "scatter"
           }
          ],
          "scatter3d": [
           {
            "line": {
             "colorbar": {
              "outlinewidth": 0,
              "ticks": ""
             }
            },
            "marker": {
             "colorbar": {
              "outlinewidth": 0,
              "ticks": ""
             }
            },
            "type": "scatter3d"
           }
          ],
          "scattercarpet": [
           {
            "marker": {
             "colorbar": {
              "outlinewidth": 0,
              "ticks": ""
             }
            },
            "type": "scattercarpet"
           }
          ],
          "scattergeo": [
           {
            "marker": {
             "colorbar": {
              "outlinewidth": 0,
              "ticks": ""
             }
            },
            "type": "scattergeo"
           }
          ],
          "scattergl": [
           {
            "marker": {
             "colorbar": {
              "outlinewidth": 0,
              "ticks": ""
             }
            },
            "type": "scattergl"
           }
          ],
          "scattermapbox": [
           {
            "marker": {
             "colorbar": {
              "outlinewidth": 0,
              "ticks": ""
             }
            },
            "type": "scattermapbox"
           }
          ],
          "scatterpolar": [
           {
            "marker": {
             "colorbar": {
              "outlinewidth": 0,
              "ticks": ""
             }
            },
            "type": "scatterpolar"
           }
          ],
          "scatterpolargl": [
           {
            "marker": {
             "colorbar": {
              "outlinewidth": 0,
              "ticks": ""
             }
            },
            "type": "scatterpolargl"
           }
          ],
          "scatterternary": [
           {
            "marker": {
             "colorbar": {
              "outlinewidth": 0,
              "ticks": ""
             }
            },
            "type": "scatterternary"
           }
          ],
          "surface": [
           {
            "colorbar": {
             "outlinewidth": 0,
             "ticks": ""
            },
            "colorscale": [
             [
              0,
              "#0d0887"
             ],
             [
              0.1111111111111111,
              "#46039f"
             ],
             [
              0.2222222222222222,
              "#7201a8"
             ],
             [
              0.3333333333333333,
              "#9c179e"
             ],
             [
              0.4444444444444444,
              "#bd3786"
             ],
             [
              0.5555555555555556,
              "#d8576b"
             ],
             [
              0.6666666666666666,
              "#ed7953"
             ],
             [
              0.7777777777777778,
              "#fb9f3a"
             ],
             [
              0.8888888888888888,
              "#fdca26"
             ],
             [
              1,
              "#f0f921"
             ]
            ],
            "type": "surface"
           }
          ],
          "table": [
           {
            "cells": {
             "fill": {
              "color": "#EBF0F8"
             },
             "line": {
              "color": "white"
             }
            },
            "header": {
             "fill": {
              "color": "#C8D4E3"
             },
             "line": {
              "color": "white"
             }
            },
            "type": "table"
           }
          ]
         },
         "layout": {
          "annotationdefaults": {
           "arrowcolor": "#2a3f5f",
           "arrowhead": 0,
           "arrowwidth": 1
          },
          "autotypenumbers": "strict",
          "coloraxis": {
           "colorbar": {
            "outlinewidth": 0,
            "ticks": ""
           }
          },
          "colorscale": {
           "diverging": [
            [
             0,
             "#8e0152"
            ],
            [
             0.1,
             "#c51b7d"
            ],
            [
             0.2,
             "#de77ae"
            ],
            [
             0.3,
             "#f1b6da"
            ],
            [
             0.4,
             "#fde0ef"
            ],
            [
             0.5,
             "#f7f7f7"
            ],
            [
             0.6,
             "#e6f5d0"
            ],
            [
             0.7,
             "#b8e186"
            ],
            [
             0.8,
             "#7fbc41"
            ],
            [
             0.9,
             "#4d9221"
            ],
            [
             1,
             "#276419"
            ]
           ],
           "sequential": [
            [
             0,
             "#0d0887"
            ],
            [
             0.1111111111111111,
             "#46039f"
            ],
            [
             0.2222222222222222,
             "#7201a8"
            ],
            [
             0.3333333333333333,
             "#9c179e"
            ],
            [
             0.4444444444444444,
             "#bd3786"
            ],
            [
             0.5555555555555556,
             "#d8576b"
            ],
            [
             0.6666666666666666,
             "#ed7953"
            ],
            [
             0.7777777777777778,
             "#fb9f3a"
            ],
            [
             0.8888888888888888,
             "#fdca26"
            ],
            [
             1,
             "#f0f921"
            ]
           ],
           "sequentialminus": [
            [
             0,
             "#0d0887"
            ],
            [
             0.1111111111111111,
             "#46039f"
            ],
            [
             0.2222222222222222,
             "#7201a8"
            ],
            [
             0.3333333333333333,
             "#9c179e"
            ],
            [
             0.4444444444444444,
             "#bd3786"
            ],
            [
             0.5555555555555556,
             "#d8576b"
            ],
            [
             0.6666666666666666,
             "#ed7953"
            ],
            [
             0.7777777777777778,
             "#fb9f3a"
            ],
            [
             0.8888888888888888,
             "#fdca26"
            ],
            [
             1,
             "#f0f921"
            ]
           ]
          },
          "colorway": [
           "#636efa",
           "#EF553B",
           "#00cc96",
           "#ab63fa",
           "#FFA15A",
           "#19d3f3",
           "#FF6692",
           "#B6E880",
           "#FF97FF",
           "#FECB52"
          ],
          "font": {
           "color": "#2a3f5f"
          },
          "geo": {
           "bgcolor": "white",
           "lakecolor": "white",
           "landcolor": "#E5ECF6",
           "showlakes": true,
           "showland": true,
           "subunitcolor": "white"
          },
          "hoverlabel": {
           "align": "left"
          },
          "hovermode": "closest",
          "mapbox": {
           "style": "light"
          },
          "paper_bgcolor": "white",
          "plot_bgcolor": "#E5ECF6",
          "polar": {
           "angularaxis": {
            "gridcolor": "white",
            "linecolor": "white",
            "ticks": ""
           },
           "bgcolor": "#E5ECF6",
           "radialaxis": {
            "gridcolor": "white",
            "linecolor": "white",
            "ticks": ""
           }
          },
          "scene": {
           "xaxis": {
            "backgroundcolor": "#E5ECF6",
            "gridcolor": "white",
            "gridwidth": 2,
            "linecolor": "white",
            "showbackground": true,
            "ticks": "",
            "zerolinecolor": "white"
           },
           "yaxis": {
            "backgroundcolor": "#E5ECF6",
            "gridcolor": "white",
            "gridwidth": 2,
            "linecolor": "white",
            "showbackground": true,
            "ticks": "",
            "zerolinecolor": "white"
           },
           "zaxis": {
            "backgroundcolor": "#E5ECF6",
            "gridcolor": "white",
            "gridwidth": 2,
            "linecolor": "white",
            "showbackground": true,
            "ticks": "",
            "zerolinecolor": "white"
           }
          },
          "shapedefaults": {
           "line": {
            "color": "#2a3f5f"
           }
          },
          "ternary": {
           "aaxis": {
            "gridcolor": "white",
            "linecolor": "white",
            "ticks": ""
           },
           "baxis": {
            "gridcolor": "white",
            "linecolor": "white",
            "ticks": ""
           },
           "bgcolor": "#E5ECF6",
           "caxis": {
            "gridcolor": "white",
            "linecolor": "white",
            "ticks": ""
           }
          },
          "title": {
           "x": 0.05
          },
          "xaxis": {
           "automargin": true,
           "gridcolor": "white",
           "linecolor": "white",
           "ticks": "",
           "title": {
            "standoff": 15
           },
           "zerolinecolor": "white",
           "zerolinewidth": 2
          },
          "yaxis": {
           "automargin": true,
           "gridcolor": "white",
           "linecolor": "white",
           "ticks": "",
           "title": {
            "standoff": 15
           },
           "zerolinecolor": "white",
           "zerolinewidth": 2
          }
         }
        },
        "title": {
         "font": {
          "family": "Swiss 721 BT"
         },
         "text": "Tabelle 1 Demografie und Berufstätigkeit in Ost- und Westdeutschland 2020 Personen ab 14 Jahren, in %"
        },
        "updatemenus": [
         {
          "buttons": [
           {
            "args": [
             "shapes",
             [
              [
               7,
               5,
               -2
              ],
              [
               14,
               12,
               -2
              ],
              [
               15,
               14,
               -1
              ],
              [
               15,
               14,
               -1
              ],
              [
               19,
               19,
               0
              ],
              [
               13,
               18,
               5
              ],
              [
               17,
               18,
               1
              ],
              [
               47,
               47,
               0
              ],
              [
               14,
               10,
               -4
              ],
              [
               2,
               4,
               2
              ],
              [
               1,
               0,
               -1
              ],
              [
               5,
               3,
               -2
              ],
              [
               3,
               2,
               -1
              ],
              [
               24,
               31,
               7
              ],
              [
               4,
               5,
               1
              ]
             ]
            ],
            "label": "Tabelle 1 ",
            "method": "update"
           },
           {
            "args": [
             "shapes",
             [
              [
               47,
               47,
               0
              ],
              [
               82,
               82,
               0
              ],
              [
               75,
               76,
               1
              ],
              [
               77,
               78,
               1
              ],
              [
               48,
               50,
               2
              ],
              [
               69,
               68,
               -1
              ],
              [
               48,
               52,
               4
              ]
             ]
            ],
            "label": "Tabelle 12",
            "method": "update"
           },
           {
            "args": [
             "shapes",
             [
              [
               47,
               45,
               -2
              ],
              [
               81,
               80,
               -1
              ],
              [
               61,
               65,
               4
              ],
              [
               82,
               83,
               1
              ],
              [
               49,
               52,
               3
              ],
              [
               57,
               64,
               7
              ],
              [
               42,
               48,
               6
              ]
             ]
            ],
            "label": "Tabelle 13",
            "method": "update"
           },
           {
            "args": [
             "shapes",
             [
              [
               82,
               82,
               0
              ],
              [
               71,
               74,
               3
              ],
              [
               70,
               82,
               12
              ],
              [
               22,
               29,
               7
              ],
              [
               81,
               80,
               -1
              ],
              [
               74,
               64,
               -10
              ],
              [
               27,
               31,
               4
              ],
              [
               92,
               93,
               1
              ],
              [
               92,
               91,
               -1
              ]
             ]
            ],
            "label": "Tabelle 15",
            "method": "update"
           },
           {
            "args": [
             "shapes",
             [
              [
               48,
               50,
               2
              ],
              [
               52,
               55,
               3
              ],
              [
               56,
               67,
               11
              ],
              [
               24,
               25,
               1
              ],
              [
               49,
               52,
               3
              ],
              [
               54,
               49,
               -5
              ],
              [
               29,
               31,
               2
              ],
              [
               74,
               75,
               1
              ],
              [
               70,
               69,
               -1
              ]
             ]
            ],
            "label": "Tabelle 16",
            "method": "update"
           },
           {
            "args": [
             "shapes",
             [
              [
               75,
               76,
               1
              ],
              [
               76,
               76,
               0
              ],
              [
               65,
               66,
               1
              ],
              [
               93,
               93,
               0
              ],
              [
               61,
               65,
               4
              ],
              [
               56,
               57,
               1
              ],
              [
               85,
               84,
               -1
              ],
              [
               51,
               58,
               7
              ],
              [
               39,
               42,
               3
              ]
             ]
            ],
            "label": "Tabelle 17",
            "method": "update"
           },
           {
            "args": [
             "shapes",
             [
              [
               85,
               79,
               -6
              ],
              [
               84,
               79,
               -5
              ],
              [
               63,
               57,
               -6
              ],
              [
               79,
               76,
               -3
              ],
              [
               83,
               79,
               -4
              ],
              [
               71,
               69,
               -2
              ],
              [
               65,
               63,
               -2
              ],
              [
               67,
               62,
               -5
              ]
             ]
            ],
            "label": "Tabelle 20",
            "method": "update"
           },
           {
            "args": [
             "shapes",
             [
              [
               80,
               71,
               -9
              ],
              [
               34,
               34,
               0
              ],
              [
               85,
               79,
               -6
              ],
              [
               60,
               57,
               -3
              ],
              [
               52,
               49,
               -3
              ],
              [
               35,
               46,
               11
              ],
              [
               63,
               66,
               3
              ],
              [
               81,
               80,
               -1
              ],
              [
               26,
               32,
               6
              ]
             ]
            ],
            "label": "Tabelle 23",
            "method": "update"
           },
           {
            "args": [
             "shapes",
             [
              [
               83,
               76,
               -7
              ],
              [
               33,
               36,
               3
              ],
              [
               83,
               79,
               -4
              ],
              [
               53,
               52,
               -1
              ],
              [
               30,
               26,
               -4
              ],
              [
               45,
               48,
               3
              ],
              [
               35,
               26,
               -9
              ],
              [
               86,
               85,
               -1
              ],
              [
               40,
               42,
               2
              ]
             ]
            ],
            "label": "Tabelle 24",
            "method": "update"
           },
           {
            "args": [
             "shapes",
             [
              [
               61,
               53,
               -8
              ],
              [
               29,
               31,
               2
              ],
              [
               67,
               62,
               -5
              ],
              [
               49,
               44,
               -5
              ],
              [
               35,
               30,
               -5
              ],
              [
               35,
               36,
               1
              ],
              [
               36,
               33,
               -3
              ],
              [
               64,
               61,
               -3
              ],
              [
               50,
               46,
               -4
              ]
             ]
            ],
            "label": "Tabelle 25",
            "method": "update"
           },
           {
            "args": [
             "shapes",
             [
              [
               65,
               60,
               -5
              ],
              [
               66,
               66,
               0
              ],
              [
               79,
               76,
               -3
              ],
              [
               71,
               69,
               -2
              ],
              [
               93,
               92,
               -1
              ],
              [
               82,
               81,
               -1
              ],
              [
               91,
               93,
               2
              ],
              [
               65,
               65,
               0
              ],
              [
               81,
               79,
               -2
              ]
             ]
            ],
            "label": "Tabelle 28",
            "method": "update"
           },
           {
            "args": [
             "shapes",
             [
              [
               72,
               64,
               -8
              ],
              [
               27,
               34,
               7
              ],
              [
               71,
               69,
               -2
              ],
              [
               42,
               43,
               1
              ],
              [
               57,
               61,
               4
              ],
              [
               51,
               61,
               10
              ],
              [
               70,
               70,
               0
              ],
              [
               79,
               78,
               -1
              ],
              [
               46,
               47,
               1
              ]
             ]
            ],
            "label": "Tabelle 29",
            "method": "update"
           },
           {
            "args": [
             "shapes",
             [
              [
               55,
               51,
               -4
              ],
              [
               34,
               38,
               4
              ],
              [
               65,
               63,
               -2
              ],
              [
               45,
               48,
               3
              ],
              [
               82,
               86,
               4
              ],
              [
               57,
               63,
               6
              ],
              [
               83,
               86,
               3
              ],
              [
               65,
               64,
               -1
              ],
              [
               54,
               48,
               -6
              ]
             ]
            ],
            "label": "Tabelle 30",
            "method": "update"
           },
           {
            "args": [
             "shapes",
             [
              [
               51,
               50,
               -1
              ],
              [
               32,
               34,
               2
              ],
              [
               11,
               13,
               2
              ],
              [
               6,
               4,
               -2
              ],
              [
               83,
               84,
               1
              ],
              [
               17,
               17,
               0
              ]
             ]
            ],
            "label": "Tabelle 31",
            "method": "update"
           },
           {
            "args": [
             "shapes",
             [
              [
               9,
               6,
               -3
              ],
              [
               64,
               60,
               -4
              ],
              [
               22,
               28,
               6
              ],
              [
               5,
               6,
               1
              ],
              [
               73,
               66,
               -7
              ],
              [
               27,
               34,
               7
              ]
             ]
            ],
            "label": "Tabelle 33",
            "method": "update"
           }
          ],
          "direction": "down",
          "pad": {
           "r": 10,
           "t": 10
          },
          "showactive": true,
          "x": -0.1,
          "xanchor": "left",
          "y": 1.17,
          "yanchor": "top"
         }
        ]
       }
      },
      "text/html": [
       "<div>                            <div id=\"5989dcc7-1691-4418-afae-9d5237224327\" class=\"plotly-graph-div\" style=\"height:525px; width:100%;\"></div>            <script type=\"text/javascript\">                require([\"plotly\"], function(Plotly) {                    window.PLOTLYENV=window.PLOTLYENV || {};                                    if (document.getElementById(\"5989dcc7-1691-4418-afae-9d5237224327\")) {                    Plotly.newPlot(                        \"5989dcc7-1691-4418-afae-9d5237224327\",                        [{\"marker\": {\"color\": \"#FA7D19\"}, \"name\": \"Alte Bundesl\\u00e4nder\", \"textposition\": \"outside\", \"type\": \"bar\", \"x\": [\"14-19 J.\", \"20-29 J.\", \"30-39 J.\", \"40-49 J.\", \"50-59 J.\", \"60-69 J.\", \"ab 70 J.\", \"voll berufst\\u00e4tig\", \"teil-berufst\\u00e4tig (halbtags/stundenweise)\", \"in Berufsausbildung, Azubi\", \"Hausfrau ohne Berufst\\u00e4tigkeit\", \"Sch\\u00fcler(in)\", \"Student(in)\", \"Rentner(in)\", \"nicht berufst\\u00e4tig, arbeitslos\"], \"y\": [7, 14, 15, 15, 19, 13, 17, 47, 14, 2, 1, 5, 3, 24, 4]}, {\"marker\": {\"color\": \"#999999\"}, \"name\": \"Neue Bundesl\\u00e4nder\", \"textposition\": \"outside\", \"type\": \"bar\", \"x\": [\"14-19 J.\", \"20-29 J.\", \"30-39 J.\", \"40-49 J.\", \"50-59 J.\", \"60-69 J.\", \"ab 70 J.\", \"voll berufst\\u00e4tig\", \"teil-berufst\\u00e4tig (halbtags/stundenweise)\", \"in Berufsausbildung, Azubi\", \"Hausfrau ohne Berufst\\u00e4tigkeit\", \"Sch\\u00fcler(in)\", \"Student(in)\", \"Rentner(in)\", \"nicht berufst\\u00e4tig, arbeitslos\"], \"y\": [5, 12, 14, 14, 19, 18, 18, 47, 10, 4, 0, 3, 2, 31, 5]}, {\"marker\": {\"color\": \"#666666\"}, \"name\": \"Differenz\", \"text\": [-2.0, -2.0, -1.0, -1.0, 0.0, 5.0, 1.0, 0.0, -4.0, 2.0, -1.0, -2.0, -1.0, 7.0, 1.0], \"textposition\": \"outside\", \"type\": \"bar\", \"x\": [\"14-19 J.\", \"20-29 J.\", \"30-39 J.\", \"40-49 J.\", \"50-59 J.\", \"60-69 J.\", \"ab 70 J.\", \"voll berufst\\u00e4tig\", \"teil-berufst\\u00e4tig (halbtags/stundenweise)\", \"in Berufsausbildung, Azubi\", \"Hausfrau ohne Berufst\\u00e4tigkeit\", \"Sch\\u00fcler(in)\", \"Student(in)\", \"Rentner(in)\", \"nicht berufst\\u00e4tig, arbeitslos\"], \"y\": [-2, -2, -1, -1, 0, 5, 1, 0, -4, 2, -1, -2, -1, 7, 1]}],                        {\"barmode\": \"group\", \"template\": {\"data\": {\"bar\": [{\"error_x\": {\"color\": \"#2a3f5f\"}, \"error_y\": {\"color\": \"#2a3f5f\"}, \"marker\": {\"line\": {\"color\": \"#E5ECF6\", \"width\": 0.5}}, \"type\": \"bar\"}], \"barpolar\": [{\"marker\": {\"line\": {\"color\": \"#E5ECF6\", \"width\": 0.5}}, \"type\": \"barpolar\"}], \"carpet\": [{\"aaxis\": {\"endlinecolor\": \"#2a3f5f\", \"gridcolor\": \"white\", \"linecolor\": \"white\", \"minorgridcolor\": \"white\", \"startlinecolor\": \"#2a3f5f\"}, \"baxis\": {\"endlinecolor\": \"#2a3f5f\", \"gridcolor\": \"white\", \"linecolor\": \"white\", \"minorgridcolor\": \"white\", \"startlinecolor\": \"#2a3f5f\"}, \"type\": \"carpet\"}], \"choropleth\": [{\"colorbar\": {\"outlinewidth\": 0, \"ticks\": \"\"}, \"type\": \"choropleth\"}], \"contour\": [{\"colorbar\": {\"outlinewidth\": 0, \"ticks\": \"\"}, \"colorscale\": [[0.0, \"#0d0887\"], [0.1111111111111111, \"#46039f\"], [0.2222222222222222, \"#7201a8\"], [0.3333333333333333, \"#9c179e\"], [0.4444444444444444, \"#bd3786\"], [0.5555555555555556, \"#d8576b\"], [0.6666666666666666, \"#ed7953\"], [0.7777777777777778, \"#fb9f3a\"], [0.8888888888888888, \"#fdca26\"], [1.0, \"#f0f921\"]], \"type\": \"contour\"}], \"contourcarpet\": [{\"colorbar\": {\"outlinewidth\": 0, \"ticks\": \"\"}, \"type\": \"contourcarpet\"}], \"heatmap\": [{\"colorbar\": {\"outlinewidth\": 0, \"ticks\": \"\"}, \"colorscale\": [[0.0, \"#0d0887\"], [0.1111111111111111, \"#46039f\"], [0.2222222222222222, \"#7201a8\"], [0.3333333333333333, \"#9c179e\"], [0.4444444444444444, \"#bd3786\"], [0.5555555555555556, \"#d8576b\"], [0.6666666666666666, \"#ed7953\"], [0.7777777777777778, \"#fb9f3a\"], [0.8888888888888888, \"#fdca26\"], [1.0, \"#f0f921\"]], \"type\": \"heatmap\"}], \"heatmapgl\": [{\"colorbar\": {\"outlinewidth\": 0, \"ticks\": \"\"}, \"colorscale\": [[0.0, \"#0d0887\"], [0.1111111111111111, \"#46039f\"], [0.2222222222222222, \"#7201a8\"], [0.3333333333333333, \"#9c179e\"], [0.4444444444444444, \"#bd3786\"], [0.5555555555555556, \"#d8576b\"], [0.6666666666666666, \"#ed7953\"], [0.7777777777777778, \"#fb9f3a\"], [0.8888888888888888, \"#fdca26\"], [1.0, \"#f0f921\"]], \"type\": \"heatmapgl\"}], \"histogram\": [{\"marker\": {\"colorbar\": {\"outlinewidth\": 0, \"ticks\": \"\"}}, \"type\": \"histogram\"}], \"histogram2d\": [{\"colorbar\": {\"outlinewidth\": 0, \"ticks\": \"\"}, \"colorscale\": [[0.0, \"#0d0887\"], [0.1111111111111111, \"#46039f\"], [0.2222222222222222, \"#7201a8\"], [0.3333333333333333, \"#9c179e\"], [0.4444444444444444, \"#bd3786\"], [0.5555555555555556, \"#d8576b\"], [0.6666666666666666, \"#ed7953\"], [0.7777777777777778, \"#fb9f3a\"], [0.8888888888888888, \"#fdca26\"], [1.0, \"#f0f921\"]], \"type\": \"histogram2d\"}], \"histogram2dcontour\": [{\"colorbar\": {\"outlinewidth\": 0, \"ticks\": \"\"}, \"colorscale\": [[0.0, \"#0d0887\"], [0.1111111111111111, \"#46039f\"], [0.2222222222222222, \"#7201a8\"], [0.3333333333333333, \"#9c179e\"], [0.4444444444444444, \"#bd3786\"], [0.5555555555555556, \"#d8576b\"], [0.6666666666666666, \"#ed7953\"], [0.7777777777777778, \"#fb9f3a\"], [0.8888888888888888, \"#fdca26\"], [1.0, \"#f0f921\"]], \"type\": \"histogram2dcontour\"}], \"mesh3d\": [{\"colorbar\": {\"outlinewidth\": 0, \"ticks\": \"\"}, \"type\": \"mesh3d\"}], \"parcoords\": [{\"line\": {\"colorbar\": {\"outlinewidth\": 0, \"ticks\": \"\"}}, \"type\": \"parcoords\"}], \"pie\": [{\"automargin\": true, \"type\": \"pie\"}], \"scatter\": [{\"marker\": {\"colorbar\": {\"outlinewidth\": 0, \"ticks\": \"\"}}, \"type\": \"scatter\"}], \"scatter3d\": [{\"line\": {\"colorbar\": {\"outlinewidth\": 0, \"ticks\": \"\"}}, \"marker\": {\"colorbar\": {\"outlinewidth\": 0, \"ticks\": \"\"}}, \"type\": \"scatter3d\"}], \"scattercarpet\": [{\"marker\": {\"colorbar\": {\"outlinewidth\": 0, \"ticks\": \"\"}}, \"type\": \"scattercarpet\"}], \"scattergeo\": [{\"marker\": {\"colorbar\": {\"outlinewidth\": 0, \"ticks\": \"\"}}, \"type\": \"scattergeo\"}], \"scattergl\": [{\"marker\": {\"colorbar\": {\"outlinewidth\": 0, \"ticks\": \"\"}}, \"type\": \"scattergl\"}], \"scattermapbox\": [{\"marker\": {\"colorbar\": {\"outlinewidth\": 0, \"ticks\": \"\"}}, \"type\": \"scattermapbox\"}], \"scatterpolar\": [{\"marker\": {\"colorbar\": {\"outlinewidth\": 0, \"ticks\": \"\"}}, \"type\": \"scatterpolar\"}], \"scatterpolargl\": [{\"marker\": {\"colorbar\": {\"outlinewidth\": 0, \"ticks\": \"\"}}, \"type\": \"scatterpolargl\"}], \"scatterternary\": [{\"marker\": {\"colorbar\": {\"outlinewidth\": 0, \"ticks\": \"\"}}, \"type\": \"scatterternary\"}], \"surface\": [{\"colorbar\": {\"outlinewidth\": 0, \"ticks\": \"\"}, \"colorscale\": [[0.0, \"#0d0887\"], [0.1111111111111111, \"#46039f\"], [0.2222222222222222, \"#7201a8\"], [0.3333333333333333, \"#9c179e\"], [0.4444444444444444, \"#bd3786\"], [0.5555555555555556, \"#d8576b\"], [0.6666666666666666, \"#ed7953\"], [0.7777777777777778, \"#fb9f3a\"], [0.8888888888888888, \"#fdca26\"], [1.0, \"#f0f921\"]], \"type\": \"surface\"}], \"table\": [{\"cells\": {\"fill\": {\"color\": \"#EBF0F8\"}, \"line\": {\"color\": \"white\"}}, \"header\": {\"fill\": {\"color\": \"#C8D4E3\"}, \"line\": {\"color\": \"white\"}}, \"type\": \"table\"}]}, \"layout\": {\"annotationdefaults\": {\"arrowcolor\": \"#2a3f5f\", \"arrowhead\": 0, \"arrowwidth\": 1}, \"autotypenumbers\": \"strict\", \"coloraxis\": {\"colorbar\": {\"outlinewidth\": 0, \"ticks\": \"\"}}, \"colorscale\": {\"diverging\": [[0, \"#8e0152\"], [0.1, \"#c51b7d\"], [0.2, \"#de77ae\"], [0.3, \"#f1b6da\"], [0.4, \"#fde0ef\"], [0.5, \"#f7f7f7\"], [0.6, \"#e6f5d0\"], [0.7, \"#b8e186\"], [0.8, \"#7fbc41\"], [0.9, \"#4d9221\"], [1, \"#276419\"]], \"sequential\": [[0.0, \"#0d0887\"], [0.1111111111111111, \"#46039f\"], [0.2222222222222222, \"#7201a8\"], [0.3333333333333333, \"#9c179e\"], [0.4444444444444444, \"#bd3786\"], [0.5555555555555556, \"#d8576b\"], [0.6666666666666666, \"#ed7953\"], [0.7777777777777778, \"#fb9f3a\"], [0.8888888888888888, \"#fdca26\"], [1.0, \"#f0f921\"]], \"sequentialminus\": [[0.0, \"#0d0887\"], [0.1111111111111111, \"#46039f\"], [0.2222222222222222, \"#7201a8\"], [0.3333333333333333, \"#9c179e\"], [0.4444444444444444, \"#bd3786\"], [0.5555555555555556, \"#d8576b\"], [0.6666666666666666, \"#ed7953\"], [0.7777777777777778, \"#fb9f3a\"], [0.8888888888888888, \"#fdca26\"], [1.0, \"#f0f921\"]]}, \"colorway\": [\"#636efa\", \"#EF553B\", \"#00cc96\", \"#ab63fa\", \"#FFA15A\", \"#19d3f3\", \"#FF6692\", \"#B6E880\", \"#FF97FF\", \"#FECB52\"], \"font\": {\"color\": \"#2a3f5f\"}, \"geo\": {\"bgcolor\": \"white\", \"lakecolor\": \"white\", \"landcolor\": \"#E5ECF6\", \"showlakes\": true, \"showland\": true, \"subunitcolor\": \"white\"}, \"hoverlabel\": {\"align\": \"left\"}, \"hovermode\": \"closest\", \"mapbox\": {\"style\": \"light\"}, \"paper_bgcolor\": \"white\", \"plot_bgcolor\": \"#E5ECF6\", \"polar\": {\"angularaxis\": {\"gridcolor\": \"white\", \"linecolor\": \"white\", \"ticks\": \"\"}, \"bgcolor\": \"#E5ECF6\", \"radialaxis\": {\"gridcolor\": \"white\", \"linecolor\": \"white\", \"ticks\": \"\"}}, \"scene\": {\"xaxis\": {\"backgroundcolor\": \"#E5ECF6\", \"gridcolor\": \"white\", \"gridwidth\": 2, \"linecolor\": \"white\", \"showbackground\": true, \"ticks\": \"\", \"zerolinecolor\": \"white\"}, \"yaxis\": {\"backgroundcolor\": \"#E5ECF6\", \"gridcolor\": \"white\", \"gridwidth\": 2, \"linecolor\": \"white\", \"showbackground\": true, \"ticks\": \"\", \"zerolinecolor\": \"white\"}, \"zaxis\": {\"backgroundcolor\": \"#E5ECF6\", \"gridcolor\": \"white\", \"gridwidth\": 2, \"linecolor\": \"white\", \"showbackground\": true, \"ticks\": \"\", \"zerolinecolor\": \"white\"}}, \"shapedefaults\": {\"line\": {\"color\": \"#2a3f5f\"}}, \"ternary\": {\"aaxis\": {\"gridcolor\": \"white\", \"linecolor\": \"white\", \"ticks\": \"\"}, \"baxis\": {\"gridcolor\": \"white\", \"linecolor\": \"white\", \"ticks\": \"\"}, \"bgcolor\": \"#E5ECF6\", \"caxis\": {\"gridcolor\": \"white\", \"linecolor\": \"white\", \"ticks\": \"\"}}, \"title\": {\"x\": 0.05}, \"xaxis\": {\"automargin\": true, \"gridcolor\": \"white\", \"linecolor\": \"white\", \"ticks\": \"\", \"title\": {\"standoff\": 15}, \"zerolinecolor\": \"white\", \"zerolinewidth\": 2}, \"yaxis\": {\"automargin\": true, \"gridcolor\": \"white\", \"linecolor\": \"white\", \"ticks\": \"\", \"title\": {\"standoff\": 15}, \"zerolinecolor\": \"white\", \"zerolinewidth\": 2}}}, \"title\": {\"font\": {\"family\": \"Swiss 721 BT\"}, \"text\": \"Tabelle 1 Demografie und Berufst\\u00e4tigkeit in Ost- und Westdeutschland 2020 Personen ab 14 Jahren, in %\"}, \"updatemenus\": [{\"buttons\": [{\"args\": [\"shapes\", [[7, 5, -2], [14, 12, -2], [15, 14, -1], [15, 14, -1], [19, 19, 0], [13, 18, 5], [17, 18, 1], [47, 47, 0], [14, 10, -4], [2, 4, 2], [1, 0, -1], [5, 3, -2], [3, 2, -1], [24, 31, 7], [4, 5, 1]]], \"label\": \"Tabelle 1 \", \"method\": \"update\"}, {\"args\": [\"shapes\", [[47, 47, 0], [82, 82, 0], [75, 76, 1], [77, 78, 1], [48, 50, 2], [69, 68, -1], [48, 52, 4]]], \"label\": \"Tabelle 12\", \"method\": \"update\"}, {\"args\": [\"shapes\", [[47, 45, -2], [81, 80, -1], [61, 65, 4], [82, 83, 1], [49, 52, 3], [57, 64, 7], [42, 48, 6]]], \"label\": \"Tabelle 13\", \"method\": \"update\"}, {\"args\": [\"shapes\", [[82, 82, 0], [71, 74, 3], [70, 82, 12], [22, 29, 7], [81, 80, -1], [74, 64, -10], [27, 31, 4], [92, 93, 1], [92, 91, -1]]], \"label\": \"Tabelle 15\", \"method\": \"update\"}, {\"args\": [\"shapes\", [[48, 50, 2], [52, 55, 3], [56, 67, 11], [24, 25, 1], [49, 52, 3], [54, 49, -5], [29, 31, 2], [74, 75, 1], [70, 69, -1]]], \"label\": \"Tabelle 16\", \"method\": \"update\"}, {\"args\": [\"shapes\", [[75, 76, 1], [76, 76, 0], [65, 66, 1], [93, 93, 0], [61, 65, 4], [56, 57, 1], [85, 84, -1], [51, 58, 7], [39, 42, 3]]], \"label\": \"Tabelle 17\", \"method\": \"update\"}, {\"args\": [\"shapes\", [[85, 79, -6], [84, 79, -5], [63, 57, -6], [79, 76, -3], [83, 79, -4], [71, 69, -2], [65, 63, -2], [67, 62, -5]]], \"label\": \"Tabelle 20\", \"method\": \"update\"}, {\"args\": [\"shapes\", [[80, 71, -9], [34, 34, 0], [85, 79, -6], [60, 57, -3], [52, 49, -3], [35, 46, 11], [63, 66, 3], [81, 80, -1], [26, 32, 6]]], \"label\": \"Tabelle 23\", \"method\": \"update\"}, {\"args\": [\"shapes\", [[83, 76, -7], [33, 36, 3], [83, 79, -4], [53, 52, -1], [30, 26, -4], [45, 48, 3], [35, 26, -9], [86, 85, -1], [40, 42, 2]]], \"label\": \"Tabelle 24\", \"method\": \"update\"}, {\"args\": [\"shapes\", [[61, 53, -8], [29, 31, 2], [67, 62, -5], [49, 44, -5], [35, 30, -5], [35, 36, 1], [36, 33, -3], [64, 61, -3], [50, 46, -4]]], \"label\": \"Tabelle 25\", \"method\": \"update\"}, {\"args\": [\"shapes\", [[65, 60, -5], [66, 66, 0], [79, 76, -3], [71, 69, -2], [93, 92, -1], [82, 81, -1], [91, 93, 2], [65, 65, 0], [81, 79, -2]]], \"label\": \"Tabelle 28\", \"method\": \"update\"}, {\"args\": [\"shapes\", [[72, 64, -8], [27, 34, 7], [71, 69, -2], [42, 43, 1], [57, 61, 4], [51, 61, 10], [70, 70, 0], [79, 78, -1], [46, 47, 1]]], \"label\": \"Tabelle 29\", \"method\": \"update\"}, {\"args\": [\"shapes\", [[55, 51, -4], [34, 38, 4], [65, 63, -2], [45, 48, 3], [82, 86, 4], [57, 63, 6], [83, 86, 3], [65, 64, -1], [54, 48, -6]]], \"label\": \"Tabelle 30\", \"method\": \"update\"}, {\"args\": [\"shapes\", [[51, 50, -1], [32, 34, 2], [11, 13, 2], [6, 4, -2], [83, 84, 1], [17, 17, 0]]], \"label\": \"Tabelle 31\", \"method\": \"update\"}, {\"args\": [\"shapes\", [[9, 6, -3], [64, 60, -4], [22, 28, 6], [5, 6, 1], [73, 66, -7], [27, 34, 7]]], \"label\": \"Tabelle 33\", \"method\": \"update\"}], \"direction\": \"down\", \"pad\": {\"r\": 10, \"t\": 10}, \"showactive\": true, \"x\": -0.1, \"xanchor\": \"left\", \"y\": 1.17, \"yanchor\": \"top\"}]},                        {\"responsive\": true}                    ).then(function(){\n",
       "                            \n",
       "var gd = document.getElementById('5989dcc7-1691-4418-afae-9d5237224327');\n",
       "var x = new MutationObserver(function (mutations, observer) {{\n",
       "        var display = window.getComputedStyle(gd).display;\n",
       "        if (!display || display === 'none') {{\n",
       "            console.log([gd, 'removed!']);\n",
       "            Plotly.purge(gd);\n",
       "            observer.disconnect();\n",
       "        }}\n",
       "}});\n",
       "\n",
       "// Listen for the removal of the full notebook cells\n",
       "var notebookContainer = gd.closest('#notebook-container');\n",
       "if (notebookContainer) {{\n",
       "    x.observe(notebookContainer, {childList: true});\n",
       "}}\n",
       "\n",
       "// Listen for the clearing of the current output cell\n",
       "var outputEl = gd.closest('.output');\n",
       "if (outputEl) {{\n",
       "    x.observe(outputEl, {childList: true});\n",
       "}}\n",
       "\n",
       "                        })                };                });            </script>        </div>"
      ]
     },
     "metadata": {},
     "output_type": "display_data"
    }
   ],
   "source": [
    "import plotly.graph_objects as go\n",
    "\n",
    "df = tabel_dic[ldl[0]]\n",
    "\n",
    "fig = go.Figure(data=[\n",
    "    go.Bar(name=\"Alte Bundesländer\", x=df.index, y=df[\"Alte Bundesländer\"],marker_color='#FA7D19'),\n",
    "    go.Bar(name=\"Neue Bundesländer\", x=df.index, y=df[\"Neue Bundesländer\"],marker_color='#999999'),\n",
    "    go.Bar(name=\"Differenz\", x=df.index, y=df[\"Differenz\"],text=df[\"Differenz\"],marker_color='#666666')\n",
    "])\n",
    "fig.update_traces(textposition='outside')\n",
    "fig.update_layout(barmode='group', title=df.index.name,title_font_family='Swiss 721 BT')\n",
    "\n",
    "fig.update_layout(\n",
    "    updatemenus=[\n",
    "        dict(\n",
    "            buttons=buttons_list,\n",
    "            direction=\"down\",\n",
    "            pad={\"r\": 10, \"t\": 10},\n",
    "            showactive=True,\n",
    "            x=-0.1,\n",
    "            xanchor=\"left\",\n",
    "            y=1.17,\n",
    "            yanchor=\"top\"\n",
    "        ),\n",
    "    ]\n",
    ")\n",
    "\n",
    "fig.show()"
   ]
  },
  {
   "cell_type": "code",
   "execution_count": null,
   "metadata": {},
   "outputs": [],
   "source": []
  }
 ],
 "metadata": {
  "kernelspec": {
   "display_name": "Python 3",
   "language": "python",
   "name": "python3"
  },
  "language_info": {
   "codemirror_mode": {
    "name": "ipython",
    "version": 3
   },
   "file_extension": ".py",
   "mimetype": "text/x-python",
   "name": "python",
   "nbconvert_exporter": "python",
   "pygments_lexer": "ipython3",
   "version": "3.8.5"
  }
 },
 "nbformat": 4,
 "nbformat_minor": 4
}
